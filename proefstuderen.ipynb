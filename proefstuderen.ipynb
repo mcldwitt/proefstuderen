{
  "cells": [
    {
      "cell_type": "markdown",
      "metadata": {
        "id": "view-in-github",
        "colab_type": "text"
      },
      "source": [
        "<a href=\"https://colab.research.google.com/github/mcldwitt/proefstuderen/blob/main/proefstuderen.ipynb\" target=\"_parent\"><img src=\"https://colab.research.google.com/assets/colab-badge.svg\" alt=\"Open In Colab\"/></a>"
      ]
    },
    {
      "cell_type": "markdown",
      "metadata": {
        "id": "6FQYsVMVUTJ7"
      },
      "source": [
        "# Labo 04 - Continue Kansverdelingen - Opdracht\n",
        "\n",
        "Reken met kansen en kansverdelingen wordt toegepast in alle domeinen van ons leven, gaande van het uitrekenen van risico’s, het voorspellen van het weer, inschatten van de impact van een reclamecampagne op de omzetcijfers van een bedrijf, modelleren van de verspreiding van een (computer) virus, etc.\n",
        "\n",
        "De normaalverdeling is de meest gekende en gebruikte kansverdeling in de statistiek. Het is een continue klokvormige kansverdeling die symmetrisch verloopt rond het gemiddelde . Ze is hoog in het midden, en wordt naar lage en hoge waarden steeds kleiner zonder ooit echt nul te worden.\n",
        "De bedoeling van deze opdracht is om vlot overweg te kunnen met deze kansverdelingen bij het uitrekenen van kansen en het kunnen bepalen van de verwachte waarden van kansverdelingen.\n",
        "\n",
        "## Inhoud\n",
        "    • Kunnen nagaan of een reeks gegevens al dan niet normaal verdeeld zijn.\n",
        "    • Rekenen met en interpreteren van de normaalverdeling.\n",
        "    • Kunnen uitrekenen van kansen bij normaalverdeelde data\n",
        "    "
      ]
    },
    {
      "cell_type": "code",
      "execution_count": null,
      "metadata": {
        "id": "NITym-cmUTJ-"
      },
      "outputs": [],
      "source": [
        "%matplotlib inline\n",
        "import matplotlib.pyplot as plt\n",
        "import pandas as pd\n",
        "import numpy as np\n",
        "import seaborn as sns\n",
        "from scipy import stats"
      ]
    },
    {
      "cell_type": "markdown",
      "metadata": {
        "id": "rOYZnx21UTJ_"
      },
      "source": [
        "## Vraag 1\n",
        "Bereken onderstaande kansen met behulp van Python."
      ]
    },
    {
      "cell_type": "code",
      "execution_count": null,
      "metadata": {
        "id": "V8Zx69o9UTJ_"
      },
      "outputs": [],
      "source": [
        "# P(Z < -1,67) - standaardnormaalverdeling met gemiddelde 0 en standaardafwijking 1\n"
      ]
    },
    {
      "cell_type": "code",
      "execution_count": null,
      "metadata": {
        "id": "6AnRxumTUTKA"
      },
      "outputs": [],
      "source": [
        "# P(Z > 2,56 ) - standaardnormaalverdeling met gemiddelde 0 en standaardafwijking 1\n"
      ]
    },
    {
      "cell_type": "code",
      "execution_count": null,
      "metadata": {
        "id": "T9KJeI7YUTKA"
      },
      "outputs": [],
      "source": [
        "# P(1,34 < Z < 2,34) - standaardnormaalverdeling met gemiddelde 0 en standaardafwijking 1\n"
      ]
    },
    {
      "cell_type": "code",
      "execution_count": null,
      "metadata": {
        "id": "VGWE82EFUTKA"
      },
      "outputs": [],
      "source": [
        "# X~N(50;5)   P(X<60) -normaalverdeling met gemiddelde 50 en standaardafwijking 5\n"
      ]
    },
    {
      "cell_type": "code",
      "execution_count": null,
      "metadata": {
        "id": "sW14R7dsUTKA"
      },
      "outputs": [],
      "source": [
        "# X~N(5;1)   P(X > 2,5) -normaalverdeling met gemiddelde 5 en standaardafwijking 1\n"
      ]
    },
    {
      "cell_type": "code",
      "execution_count": null,
      "metadata": {
        "id": "jNMMV2P2UTKB"
      },
      "outputs": [],
      "source": [
        "# X~N(120;6)   P(114 < X < 126) - normaalverdeling met gemiddelde 120 en standaardafwijking 6\n"
      ]
    },
    {
      "cell_type": "markdown",
      "metadata": {
        "id": "M_hLaMnZUTKB"
      },
      "source": [
        "## Vraag 2\n",
        "\n",
        "De batterij van de fitbit charge 2 heeft een MTTF (Mean Time To Failure = gemiddelde levensduur) van een bepaald type omvormer bedraagt 24 maanden een standaardafwijking van 6 maanden.\n",
        "De garantieperiode op een fitbit charge 2 is 1 jaar (12 maanden).\n"
      ]
    },
    {
      "cell_type": "markdown",
      "metadata": {
        "id": "47_oKSyDUTKB"
      },
      "source": [
        "a. Wat is de kans dat een fitbit binnen de garantieperiode stuk gaat?"
      ]
    },
    {
      "cell_type": "code",
      "execution_count": null,
      "metadata": {
        "id": "DzWs1BQFUTKB"
      },
      "outputs": [],
      "source": []
    },
    {
      "cell_type": "markdown",
      "metadata": {
        "id": "iTkUpXmLUTKB"
      },
      "source": [
        "b. Stel dat na 2,5 jaar een koper beslist om de fitbit charge 3 te kopen, wat is de kans dat de fitbit charge 2 niet binnen deze periode kapot gaat?\n",
        "    "
      ]
    },
    {
      "cell_type": "code",
      "execution_count": null,
      "metadata": {
        "id": "AGadKWLmUTKB"
      },
      "outputs": [],
      "source": []
    },
    {
      "cell_type": "markdown",
      "metadata": {
        "id": "PRvMC6N6UTKB"
      },
      "source": [
        "c. Wat is de kans dat de fitbit charge 2 kapot gaat tussen de 1 jaar en de 2,5 jaar en je dus niet op de garantie kunt terugvallen?"
      ]
    },
    {
      "cell_type": "code",
      "execution_count": null,
      "metadata": {
        "id": "Uj11TdluUTKB"
      },
      "outputs": [],
      "source": []
    },
    {
      "cell_type": "markdown",
      "metadata": {
        "id": "bPZs28-zUTKC"
      },
      "source": [
        "d. Na hoeveel maand moet je de batterij vervangen om ervoor te zorgen dat je minder dan 10% kans hebt dat je met een kapotte fitbit komt te zitten?"
      ]
    },
    {
      "cell_type": "code",
      "execution_count": null,
      "metadata": {
        "id": "ZFsMWLPhUTKC"
      },
      "outputs": [],
      "source": []
    },
    {
      "cell_type": "markdown",
      "metadata": {
        "id": "0QzIg92FUTKC"
      },
      "source": [
        "## Vraag 3\n",
        "\n",
        "Aan een toelatingsexamen nemen 300 kandidaten deel voor 50 plaatsen. De uitslag is normaal verdeeld. De gemiddelde uitslag bedraagt 65% en de standaardafwijking is 10%."
      ]
    },
    {
      "cell_type": "markdown",
      "metadata": {
        "id": "PxwGA2EGUTKC"
      },
      "source": [
        "a. Welk percentage is vereist om aangenomen te worden indien men de 50 besten aanwerft ?"
      ]
    },
    {
      "cell_type": "code",
      "execution_count": null,
      "metadata": {
        "id": "TuiPgn4AUTKC"
      },
      "outputs": [],
      "source": []
    },
    {
      "cell_type": "markdown",
      "metadata": {
        "id": "Q-_b0bOKUTKC"
      },
      "source": [
        "b. Ann haalt 58 en Joachim 75. Hoeveel kandidaten komen er in de rangschikking tussen Ann en Joachim?"
      ]
    },
    {
      "cell_type": "code",
      "execution_count": null,
      "metadata": {
        "id": "yv-aZINQUTKC"
      },
      "outputs": [],
      "source": []
    },
    {
      "cell_type": "markdown",
      "metadata": {
        "id": "O3Ul6U31UTKC"
      },
      "source": [
        "## Vraag 4\n",
        "\n",
        "De BMI is een index die de verhouding tussen lengte en gewicht bij een persoon weergeeft. De BMI wordt veel gebruikt om een indicatie te krijgen of er sprake is van overgewicht of ondergewicht.\n",
        "Om de BMI van een persoon te berekenen deel je zijn/haar gewicht door het kwadraat van de lengte. Het gewicht wordt daarbij uitgedrukt in kilogram, de lengte in meter.\n",
        "Weegt een persoon bijvoorbeeld 67kg en meet deze persoon 172cm, dan is de BMI gelijk aan:\n",
        "$\\frac{67}{1,72^2}=22,65$\n",
        "\n",
        "Alhoewel de BMI niet altijd even betrouwbaar is hanteert men volgende tabel om de BMI te interpreteren.\n",
        "\n",
        "| BMI | Interpretatie |\n",
        "   ----------------  |  -------------\n",
        "| 18,5 tot en met 25 | Normaal gewicht |\n",
        "| 25 tot en met 27 | Licht overgewicht |\n",
        "| 27 tot en met 30 | Matig overgewicht |\n",
        "| 30 tot en met 40 | Ernstig overgewicht |\n",
        "| Meer dan 40      | Ziekelijk overgewicht\n",
        "\n",
        "Het bestand BMI.csv bevat lengtes en gewichten van personen die tijdens een steekproef werden opgemeten.\n",
        "\n",
        "a. Teken een histogram van alle BMI waarden en ga na of deze normaal verdeeld zijn. Bepaal daarvoor het gemiddelde en de standaardafwijking. Teken nu bovenop het histogram de theoretische normaalverdeling die overeen komt met het bekomen gemiddelde en de standaardafwijking. Ga ook na of ongeveer 68% van de BMI waarden binnen 1 standaardafwijking van het gemiddelde liggen en ongeveer 95 procent van de BMI waarden binnen de 2 standaardafwijkingen van het gemiddelde.\n",
        "    \n",
        "b. Herhaal het gevraagde onder vraag b, maar splits op in mannen en vrouwen. Op deze manier kunnen we straks per geslacht aparte conclusies trekken.\n",
        "    \n",
        "c. Is er een groot verschil tussen de distributie van het BMI van mannen en deze van vrouwen?\n",
        "\n",
        "d. Hoeveel procent van demannen in de dataset heeft minstens ernstig overgewicht en hoeveel procent vrouwen in de dataset?\n",
        "\n",
        "e. Hoeveel procent van de populatie (niet de steekproef) mannen heeft minstens te maken met een ernstig overgewicht? En hoeveel procent van de vrouwen?\n",
        "    \n",
        "f. Hoeveel procent van de populatie (niet de steekproef) mannen heeft een ondergewicht? En hoeveel procent van de vrouwen? Veronderstel dat de steekproef representatief is voor de populatie.\n",
        "    \n",
        "g. Ga na of er uitschieters in de dataset aanwezig zijn. Uitschieters kan je hier beschouwen als de BMI gewichten die meer dan 3 standaardafwijkingen van het gemiddelde liggen."
      ]
    },
    {
      "cell_type": "code",
      "execution_count": null,
      "metadata": {
        "id": "k3BEo86XUTKC",
        "outputId": "12624e2f-69b4-4afa-9cb0-592343acc7ca"
      },
      "outputs": [
        {
          "data": {
            "text/html": [
              "<div>\n",
              "<style scoped>\n",
              "    .dataframe tbody tr th:only-of-type {\n",
              "        vertical-align: middle;\n",
              "    }\n",
              "\n",
              "    .dataframe tbody tr th {\n",
              "        vertical-align: top;\n",
              "    }\n",
              "\n",
              "    .dataframe thead th {\n",
              "        text-align: right;\n",
              "    }\n",
              "</style>\n",
              "<table border=\"1\" class=\"dataframe\">\n",
              "  <thead>\n",
              "    <tr style=\"text-align: right;\">\n",
              "      <th></th>\n",
              "      <th>Sex</th>\n",
              "      <th>Age</th>\n",
              "      <th>BMI</th>\n",
              "      <th>Height_m</th>\n",
              "      <th>Weight_kg</th>\n",
              "    </tr>\n",
              "  </thead>\n",
              "  <tbody>\n",
              "    <tr>\n",
              "      <th>0</th>\n",
              "      <td>Female</td>\n",
              "      <td>21</td>\n",
              "      <td>24.2</td>\n",
              "      <td>1.670812</td>\n",
              "      <td>67.652988</td>\n",
              "    </tr>\n",
              "    <tr>\n",
              "      <th>1</th>\n",
              "      <td>Female</td>\n",
              "      <td>35</td>\n",
              "      <td>24.8</td>\n",
              "      <td>1.816608</td>\n",
              "      <td>81.723660</td>\n",
              "    </tr>\n",
              "    <tr>\n",
              "      <th>2</th>\n",
              "      <td>Female</td>\n",
              "      <td>27</td>\n",
              "      <td>29.5</td>\n",
              "      <td>1.762760</td>\n",
              "      <td>91.627019</td>\n",
              "    </tr>\n",
              "    <tr>\n",
              "      <th>3</th>\n",
              "      <td>Male</td>\n",
              "      <td>24</td>\n",
              "      <td>28.4</td>\n",
              "      <td>1.732788</td>\n",
              "      <td>85.226360</td>\n",
              "    </tr>\n",
              "    <tr>\n",
              "      <th>4</th>\n",
              "      <td>Female</td>\n",
              "      <td>18</td>\n",
              "      <td>29.1</td>\n",
              "      <td>1.721866</td>\n",
              "      <td>86.399914</td>\n",
              "    </tr>\n",
              "  </tbody>\n",
              "</table>\n",
              "</div>"
            ],
            "text/plain": [
              "      Sex  Age   BMI  Height_m  Weight_kg\n",
              "0  Female   21  24.2  1.670812  67.652988\n",
              "1  Female   35  24.8  1.816608  81.723660\n",
              "2  Female   27  29.5  1.762760  91.627019\n",
              "3    Male   24  28.4  1.732788  85.226360\n",
              "4  Female   18  29.1  1.721866  86.399914"
            ]
          },
          "execution_count": 8,
          "metadata": {},
          "output_type": "execute_result"
        }
      ],
      "source": [
        "# Inlezen van de dataset\n",
        "dataset = pd.read_csv('BMI_data_bewerkt.csv')\n",
        "dataset.head()"
      ]
    },
    {
      "cell_type": "code",
      "execution_count": null,
      "metadata": {
        "id": "_P1-SRE9UTKD"
      },
      "outputs": [],
      "source": [
        "# a. Teken een histogram van alle verkopen en ga na of deze normaal verdeeld zijn.\n"
      ]
    },
    {
      "cell_type": "code",
      "execution_count": null,
      "metadata": {
        "id": "NGfmiHcIUTKD"
      },
      "outputs": [],
      "source": [
        "# b. Herhaal het gevraagde onder vraag b, maar splits op in mannen en vrouwen..\n"
      ]
    },
    {
      "cell_type": "code",
      "execution_count": null,
      "metadata": {
        "id": "GjgLl5l9UTKD"
      },
      "outputs": [],
      "source": [
        "# c. Is er een groot verschil tussen de distributie van het BMI van mannen en deze van vrouwenen? Verklaar ...\n"
      ]
    },
    {
      "cell_type": "code",
      "execution_count": null,
      "metadata": {
        "id": "BmDQ-RvzUTKD"
      },
      "outputs": [],
      "source": [
        "# d. Hoeveel procent van de mannen in de dataset heeft minstens ernstig overgewicht en hoeveel procent vrouwen in de dataset?\n"
      ]
    },
    {
      "cell_type": "code",
      "execution_count": null,
      "metadata": {
        "id": "WxGAgBbDUTKD"
      },
      "outputs": [],
      "source": [
        "# e. Hoeveel procent van de populatie (niet de steekproef) mannen heeft minstens te maken met\n",
        "#    een ernstig overgewicht? En hoeveel procent van de vrouwen?\n"
      ]
    },
    {
      "cell_type": "code",
      "execution_count": null,
      "metadata": {
        "id": "KoYvIoOYUTKD"
      },
      "outputs": [],
      "source": [
        "# f. Hoeveel procent van de populatie (niet de steekproef) mannen heeft een ondergewicht?\n",
        "#    En hoeveel procent van de vrouwen? Veronderstel dat de steekproef representatief is voor de populatie.\n"
      ]
    },
    {
      "cell_type": "code",
      "execution_count": null,
      "metadata": {
        "id": "zHyBf7-rUTKD"
      },
      "outputs": [],
      "source": [
        "# g. Ga na of er uitschieters in de dataset aanwezig zijn.\n",
        "#    Uitschieters kan je hier beschouwen als de BMI gewichten die meer dan 3 standaardafwijkingen\n",
        "#    van het gemiddelde liggen.\n"
      ]
    },
    {
      "cell_type": "markdown",
      "metadata": {
        "id": "c2uL2kO3UTKD"
      },
      "source": [
        "## Vraag 5\n",
        "Een kledingfabrikant wil een nieuwe riem op de markt brengen. Er is een variant voor Malenen en een variant voor Femaleen. Elke variant komt in smal, medium en large.\n",
        "Elk soort riem is qua lengte als volgt verstelbaar:\n",
        "\n",
        "\n",
        "|      Variant       | Mannen| Vrouwen |\n",
        "|------------|-----|---------------|\n",
        "| Smal |  Van 75 cm tot 87 cm|  Van 73 cm tot 85 cm|\n",
        "| Medium | Van 85 cm tot 100 cm| Van 80 cm tot 95 cm|\n",
        "| Large | Van 97 cm tot 110 cm  | Van 90 cm tot 107 cm|\n",
        "\n",
        "\n",
        "Om een inschatting te kunnen maken van de productieaantallen laat de fabrikant een onderzoek uitvoeren naar de heupomtrek bij Malenen en Femaleen. De gegevens kan je terugvinden onder het bestand 'riemen.csv'.\n"
      ]
    },
    {
      "cell_type": "code",
      "execution_count": null,
      "metadata": {
        "id": "vq65Yhj4UTKD",
        "outputId": "7a398571-a146-4176-dd2f-d0bcd64b1683"
      },
      "outputs": [
        {
          "data": {
            "text/html": [
              "<div>\n",
              "<style scoped>\n",
              "    .dataframe tbody tr th:only-of-type {\n",
              "        vertical-align: middle;\n",
              "    }\n",
              "\n",
              "    .dataframe tbody tr th {\n",
              "        vertical-align: top;\n",
              "    }\n",
              "\n",
              "    .dataframe thead th {\n",
              "        text-align: right;\n",
              "    }\n",
              "</style>\n",
              "<table border=\"1\" class=\"dataframe\">\n",
              "  <thead>\n",
              "    <tr style=\"text-align: right;\">\n",
              "      <th></th>\n",
              "      <th>Heupomtrek</th>\n",
              "      <th>Geslacht</th>\n",
              "    </tr>\n",
              "  </thead>\n",
              "  <tbody>\n",
              "    <tr>\n",
              "      <th>0</th>\n",
              "      <td>93.5</td>\n",
              "      <td>M</td>\n",
              "    </tr>\n",
              "    <tr>\n",
              "      <th>1</th>\n",
              "      <td>94.8</td>\n",
              "      <td>M</td>\n",
              "    </tr>\n",
              "    <tr>\n",
              "      <th>2</th>\n",
              "      <td>95.0</td>\n",
              "      <td>M</td>\n",
              "    </tr>\n",
              "    <tr>\n",
              "      <th>3</th>\n",
              "      <td>94.0</td>\n",
              "      <td>M</td>\n",
              "    </tr>\n",
              "    <tr>\n",
              "      <th>4</th>\n",
              "      <td>98.5</td>\n",
              "      <td>M</td>\n",
              "    </tr>\n",
              "  </tbody>\n",
              "</table>\n",
              "</div>"
            ],
            "text/plain": [
              "   Heupomtrek Geslacht\n",
              "0        93.5        M\n",
              "1        94.8        M\n",
              "2        95.0        M\n",
              "3        94.0        M\n",
              "4        98.5        M"
            ]
          },
          "execution_count": 16,
          "metadata": {},
          "output_type": "execute_result"
        }
      ],
      "source": [
        "dataset = pd.read_csv('riemen.csv')\n",
        "dataset.head()"
      ]
    },
    {
      "cell_type": "markdown",
      "metadata": {
        "id": "D9UesX6IUTKE"
      },
      "source": [
        "a. Ga na of deze data normaalverdeeld is. Doe dit door de kansverdeling te plotten en door na te gaan hoeveel procent van de gegevens binnen de 1, 2 en 3 standaardafwijkingen is gelegen. Vergelijk met de werkelijke normaalverdeling die hoort bij het berekende gemiddelde en standaardafwijking.  Doe de analyse ook apart voor mannen en vrouwen."
      ]
    },
    {
      "cell_type": "code",
      "execution_count": null,
      "metadata": {
        "id": "WCcjARG_UTKE"
      },
      "outputs": [],
      "source": []
    },
    {
      "cell_type": "markdown",
      "metadata": {
        "id": "1GPmOjKqUTKE"
      },
      "source": [
        "b. Vergelijk de maten van de mannen en de vrouwen in termen van gemiddelde en spreiding."
      ]
    },
    {
      "cell_type": "code",
      "execution_count": null,
      "metadata": {
        "id": "lcclIYfzUTKE"
      },
      "outputs": [],
      "source": []
    },
    {
      "cell_type": "markdown",
      "metadata": {
        "id": "cULVNrbRUTKE"
      },
      "source": [
        "c. In de veronderstelling dat de data normaalverdeeld is, bereken telkens **voor de populatie** hoeveel procent van de mannen maat smal, medium en large kan dragen. Doe dit ook voor Vrouwen. Vul daarbij onderstaande tabel aan.\n",
        "\n",
        "|       Variant     | Mannen| Vrouwen |\n",
        "|------------|-----:|---------------:|\n",
        "| Smal |     %|     %|\n",
        "| Medium |     %|     %|\n",
        "| Large |      %|     %|\n",
        "| Smal |  Van 75 cm tot 87 cm|  Van 73 cm tot 85 cm|\n",
        "| Medium | Van 85 cm tot 100 cm| Van 80 cm tot 95 cm|\n",
        "| Large | Van 97 cm tot 110 cm  | Van 90 cm tot 107 cm|"
      ]
    },
    {
      "cell_type": "code",
      "execution_count": null,
      "metadata": {
        "id": "EaRnze9iUTKH"
      },
      "outputs": [],
      "source": []
    },
    {
      "cell_type": "markdown",
      "metadata": {
        "id": "R2JUV_8sUTKH"
      },
      "source": [
        "d. Bij hoeveel procent van de mannen past zowel smal als medium?"
      ]
    },
    {
      "cell_type": "code",
      "execution_count": null,
      "metadata": {
        "id": "5QNxBNiVUTKH"
      },
      "outputs": [],
      "source": []
    },
    {
      "cell_type": "markdown",
      "metadata": {
        "id": "t7JqISQVUTKH"
      },
      "source": [
        "e. Bij hoeveel procent van de vrouwen past zowel medium als large?"
      ]
    },
    {
      "cell_type": "code",
      "execution_count": null,
      "metadata": {
        "id": "-uy4tdSIUTKH"
      },
      "outputs": [],
      "source": []
    },
    {
      "cell_type": "markdown",
      "metadata": {
        "id": "XrFzhd-WUTKH"
      },
      "source": [
        "f. Bij hoeveel procent van de mannen past geen enkele maat?"
      ]
    },
    {
      "cell_type": "code",
      "execution_count": null,
      "metadata": {
        "id": "tITuLWjLUTKH"
      },
      "outputs": [],
      "source": []
    },
    {
      "cell_type": "markdown",
      "metadata": {
        "id": "6IylnOITUTKH"
      },
      "source": [
        "g. Bij hoeveel procent van de vrouwen past geen enkele maat?"
      ]
    },
    {
      "cell_type": "code",
      "execution_count": null,
      "metadata": {
        "id": "mrd3_NhuUTKH"
      },
      "outputs": [],
      "source": []
    }
  ],
  "metadata": {
    "kernelspec": {
      "display_name": "Python 3",
      "language": "python",
      "name": "python3"
    },
    "language_info": {
      "codemirror_mode": {
        "name": "ipython",
        "version": 3
      },
      "file_extension": ".py",
      "mimetype": "text/x-python",
      "name": "python",
      "nbconvert_exporter": "python",
      "pygments_lexer": "ipython3",
      "version": "3.11.5"
    },
    "colab": {
      "provenance": [],
      "include_colab_link": true
    }
  },
  "nbformat": 4,
  "nbformat_minor": 0
}